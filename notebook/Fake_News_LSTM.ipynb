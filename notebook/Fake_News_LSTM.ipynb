{
  "nbformat": 4,
  "nbformat_minor": 0,
  "metadata": {
    "accelerator": "GPU",
    "colab": {
      "name": "Fake_News_LSTM.ipynb",
      "provenance": [],
      "collapsed_sections": []
    },
    "kernelspec": {
      "display_name": "Python 3",
      "name": "python3"
    }
  },
  "cells": [
    {
      "cell_type": "code",
      "metadata": {
        "colab": {
          "base_uri": "https://localhost:8080/"
        },
        "id": "oQAAhKTr-Rbd",
        "outputId": "1d081cc5-5e23-4796-de79-336ab90150b0"
      },
      "source": [
        "from google.colab import drive\n",
        "drive.mount('/content/drive')"
      ],
      "execution_count": 2,
      "outputs": [
        {
          "output_type": "stream",
          "text": [
            "Drive already mounted at /content/drive; to attempt to forcibly remount, call drive.mount(\"/content/drive\", force_remount=True).\n"
          ],
          "name": "stdout"
        }
      ]
    },
    {
      "cell_type": "code",
      "metadata": {
        "id": "bGsUkEb1dE-9"
      },
      "source": [
        "import numpy as np\n",
        "import pandas as pd\n",
        "import matplotlib.pyplot as plt\n",
        "import seaborn as sns\n",
        "\n",
        "import nltk\n",
        "import re\n",
        "import string \n",
        "\n",
        "from sklearn.model_selection import train_test_split\n",
        "from sklearn.metrics import classification_report\n",
        "\n",
        "import keras\n",
        "from keras.preprocessing import text,sequence\n",
        "from keras.models import Sequential\n",
        "from keras.layers import Dense,Embedding,LSTM,Dropout,Bidirectional\n",
        "\n",
        "dataset = pd.read_csv('/content/drive/My Drive/Fake News/Project/final_data.csv')"
      ],
      "execution_count": 3,
      "outputs": []
    },
    {
      "cell_type": "code",
      "metadata": {
        "colab": {
          "base_uri": "https://localhost:8080/"
        },
        "id": "mmFRofKobwP1",
        "outputId": "6d0b262e-8c28-4bfc-d19f-c6a0271becc8"
      },
      "source": [
        "from nltk.corpus import stopwords\n",
        "nltk.download('stopwords')\n",
        "nltk.download(\"punkt\")\n",
        "nltk.download('wordnet')\n",
        "\n",
        "def remove_punctuations(text):\n",
        "    return re.sub('\\[[^]]*\\]', '', text)\n",
        "\n",
        "def remove_characters(text):\n",
        "    return re.sub(\"[^a-zA-Z]\",\" \",text)\n",
        " \n",
        "def remove_stopwords_and_lemmatization(text):\n",
        "    final_text = []\n",
        "    text = text.lower()\n",
        "    text = nltk.word_tokenize(text)\n",
        "    \n",
        "    for word in text:\n",
        "        if word not in set(stopwords.words('english')):\n",
        "            lemma = nltk.WordNetLemmatizer()\n",
        "            word = lemma.lemmatize(word) \n",
        "            final_text.append(word)\n",
        "    return \" \".join(final_text)\n",
        "\n",
        "def cleaning(text):\n",
        "    text = remove_punctuations(text)\n",
        "    text = remove_characters(text)\n",
        "    text = remove_stopwords_and_lemmatization(text)\n",
        "    return text\n",
        "\n",
        "#Apply function on text column\n",
        "dataset['title']=dataset['title'].apply(cleaning)"
      ],
      "execution_count": 7,
      "outputs": [
        {
          "output_type": "stream",
          "text": [
            "[nltk_data] Downloading package stopwords to /root/nltk_data...\n",
            "[nltk_data]   Package stopwords is already up-to-date!\n",
            "[nltk_data] Downloading package punkt to /root/nltk_data...\n",
            "[nltk_data]   Package punkt is already up-to-date!\n",
            "[nltk_data] Downloading package wordnet to /root/nltk_data...\n",
            "[nltk_data]   Package wordnet is already up-to-date!\n"
          ],
          "name": "stdout"
        }
      ]
    },
    {
      "cell_type": "code",
      "metadata": {
        "id": "H3Ic0yvRavUm"
      },
      "source": [
        "X_train, X_test, y_train, y_test = train_test_split(dataset['title'], dataset['label'], random_state=42)"
      ],
      "execution_count": 19,
      "outputs": []
    },
    {
      "cell_type": "code",
      "metadata": {
        "id": "FU3Vpi0eJgQk"
      },
      "source": [
        "max_features =5000\n",
        "maxlen = 150\n",
        "tokenizer = text.Tokenizer(num_words=max_features)\n",
        "tokenizer.fit_on_texts(X_train)\n",
        "tokenized_train = tokenizer.texts_to_sequences(X_train)\n",
        "X_train = sequence.pad_sequences(tokenized_train, maxlen=maxlen)"
      ],
      "execution_count": 20,
      "outputs": []
    },
    {
      "cell_type": "code",
      "metadata": {
        "id": "2z8f3-Yuc5MR"
      },
      "source": [
        "\n",
        "tokenized_test = tokenizer.texts_to_sequences(X_test)\n",
        "X_test = sequence.pad_sequences(tokenized_test, maxlen=maxlen)"
      ],
      "execution_count": 21,
      "outputs": []
    },
    {
      "cell_type": "code",
      "metadata": {
        "colab": {
          "base_uri": "https://localhost:8080/"
        },
        "id": "I0UAmP97Lp5f",
        "outputId": "b87e4dc5-110d-4cb4-bd1c-82def2c0293e"
      },
      "source": [
        "embedding_vector_features = 70\n",
        "model=Sequential()\n",
        "model.add(Embedding(max_features,embedding_vector_features,input_length=maxlen, trainable=True))\n",
        "model.add(LSTM(50,return_sequences=True))\n",
        "model.add(Dropout(0.2))\n",
        "model.add(LSTM(100,return_sequences=True))\n",
        "model.add(Dropout(0.3))\n",
        "model.add(LSTM(64))\n",
        "model.add(Dense(units = 50 , activation = 'relu'))\n",
        "model.add(Dense(1,activation='sigmoid'))\n",
        "model.compile(loss='binary_crossentropy',optimizer='Adam',metrics=['accuracy'])\n",
        "print(model.summary())"
      ],
      "execution_count": 36,
      "outputs": [
        {
          "output_type": "stream",
          "text": [
            "Model: \"sequential_10\"\n",
            "_________________________________________________________________\n",
            "Layer (type)                 Output Shape              Param #   \n",
            "=================================================================\n",
            "embedding_10 (Embedding)     (None, 150, 70)           350000    \n",
            "_________________________________________________________________\n",
            "lstm_27 (LSTM)               (None, 150, 50)           24200     \n",
            "_________________________________________________________________\n",
            "dropout_17 (Dropout)         (None, 150, 50)           0         \n",
            "_________________________________________________________________\n",
            "lstm_28 (LSTM)               (None, 150, 100)          60400     \n",
            "_________________________________________________________________\n",
            "dropout_18 (Dropout)         (None, 150, 100)          0         \n",
            "_________________________________________________________________\n",
            "lstm_29 (LSTM)               (None, 64)                42240     \n",
            "_________________________________________________________________\n",
            "dense_17 (Dense)             (None, 50)                3250      \n",
            "_________________________________________________________________\n",
            "dense_18 (Dense)             (None, 1)                 51        \n",
            "=================================================================\n",
            "Total params: 480,141\n",
            "Trainable params: 480,141\n",
            "Non-trainable params: 0\n",
            "_________________________________________________________________\n",
            "None\n"
          ],
          "name": "stdout"
        }
      ]
    },
    {
      "cell_type": "code",
      "metadata": {
        "colab": {
          "base_uri": "https://localhost:8080/"
        },
        "id": "hATX0q6SNAHO",
        "outputId": "1e19350d-4f10-491b-df20-3653b30d200b"
      },
      "source": [
        "model.fit(X_train,y_train,validation_data=(X_test,y_test),epochs=20,batch_size=256,shuffle=True)"
      ],
      "execution_count": 37,
      "outputs": [
        {
          "output_type": "stream",
          "text": [
            "Epoch 1/20\n",
            "138/138 [==============================] - 12s 55ms/step - loss: 0.4760 - accuracy: 0.7513 - val_loss: 0.1960 - val_accuracy: 0.9220\n",
            "Epoch 2/20\n",
            "138/138 [==============================] - 6s 45ms/step - loss: 0.1478 - accuracy: 0.9442 - val_loss: 0.1867 - val_accuracy: 0.9265\n",
            "Epoch 3/20\n",
            "138/138 [==============================] - 6s 45ms/step - loss: 0.1181 - accuracy: 0.9562 - val_loss: 0.1864 - val_accuracy: 0.9286\n",
            "Epoch 4/20\n",
            "138/138 [==============================] - 6s 45ms/step - loss: 0.1005 - accuracy: 0.9639 - val_loss: 0.1870 - val_accuracy: 0.9321\n",
            "Epoch 5/20\n",
            "138/138 [==============================] - 6s 45ms/step - loss: 0.0899 - accuracy: 0.9688 - val_loss: 0.1970 - val_accuracy: 0.9330\n",
            "Epoch 6/20\n",
            "138/138 [==============================] - 6s 45ms/step - loss: 0.0703 - accuracy: 0.9755 - val_loss: 0.2103 - val_accuracy: 0.9321\n",
            "Epoch 7/20\n",
            "138/138 [==============================] - 6s 45ms/step - loss: 0.0534 - accuracy: 0.9838 - val_loss: 0.2141 - val_accuracy: 0.9329\n",
            "Epoch 8/20\n",
            "138/138 [==============================] - 6s 45ms/step - loss: 0.0469 - accuracy: 0.9858 - val_loss: 0.2452 - val_accuracy: 0.9326\n",
            "Epoch 9/20\n",
            "138/138 [==============================] - 6s 45ms/step - loss: 0.0381 - accuracy: 0.9889 - val_loss: 0.2629 - val_accuracy: 0.9274\n",
            "Epoch 10/20\n",
            "138/138 [==============================] - 6s 45ms/step - loss: 0.0337 - accuracy: 0.9906 - val_loss: 0.2806 - val_accuracy: 0.9280\n",
            "Epoch 11/20\n",
            "138/138 [==============================] - 6s 45ms/step - loss: 0.0240 - accuracy: 0.9933 - val_loss: 0.2899 - val_accuracy: 0.9246\n",
            "Epoch 12/20\n",
            "138/138 [==============================] - 6s 45ms/step - loss: 0.0228 - accuracy: 0.9938 - val_loss: 0.3035 - val_accuracy: 0.9298\n",
            "Epoch 13/20\n",
            "138/138 [==============================] - 6s 45ms/step - loss: 0.0239 - accuracy: 0.9921 - val_loss: 0.3284 - val_accuracy: 0.9263\n",
            "Epoch 14/20\n",
            "138/138 [==============================] - 6s 45ms/step - loss: 0.0230 - accuracy: 0.9935 - val_loss: 0.3479 - val_accuracy: 0.9287\n",
            "Epoch 15/20\n",
            "138/138 [==============================] - 6s 45ms/step - loss: 0.0172 - accuracy: 0.9952 - val_loss: 0.3507 - val_accuracy: 0.9278\n",
            "Epoch 16/20\n",
            "138/138 [==============================] - 6s 45ms/step - loss: 0.0288 - accuracy: 0.9908 - val_loss: 0.3524 - val_accuracy: 0.9227\n",
            "Epoch 17/20\n",
            "138/138 [==============================] - 6s 45ms/step - loss: 0.0164 - accuracy: 0.9949 - val_loss: 0.4077 - val_accuracy: 0.9218\n",
            "Epoch 18/20\n",
            "138/138 [==============================] - 6s 46ms/step - loss: 0.0102 - accuracy: 0.9971 - val_loss: 0.4149 - val_accuracy: 0.9260\n",
            "Epoch 19/20\n",
            "138/138 [==============================] - 6s 45ms/step - loss: 0.0079 - accuracy: 0.9977 - val_loss: 0.4360 - val_accuracy: 0.9269\n",
            "Epoch 20/20\n",
            "138/138 [==============================] - 6s 45ms/step - loss: 0.0067 - accuracy: 0.9982 - val_loss: 0.4697 - val_accuracy: 0.9229\n"
          ],
          "name": "stdout"
        },
        {
          "output_type": "execute_result",
          "data": {
            "text/plain": [
              "<keras.callbacks.History at 0x7fb262c2e1d0>"
            ]
          },
          "metadata": {
            "tags": []
          },
          "execution_count": 37
        }
      ]
    },
    {
      "cell_type": "code",
      "metadata": {
        "colab": {
          "base_uri": "https://localhost:8080/"
        },
        "id": "4jFUiBTzNAZP",
        "outputId": "0da68ae2-81de-420b-981f-06f1809f9a8a"
      },
      "source": [
        "print(\"Accuracy of the model on Training Data is - \" , model.evaluate(X_train,y_train)[1]*100 , \"%\")\n",
        "print(\"Accuracy of the model on Testing Data is - \" , model.evaluate(X_test,y_test)[1]*100 , \"%\")"
      ],
      "execution_count": 38,
      "outputs": [
        {
          "output_type": "stream",
          "text": [
            "1097/1097 [==============================] - 10s 9ms/step - loss: 0.0047 - accuracy: 0.9987\n",
            "Accuracy of the model on Training Data is -  99.87464547157288 %\n",
            "366/366 [==============================] - 3s 9ms/step - loss: 0.4697 - accuracy: 0.9229\n",
            "Accuracy of the model on Testing Data is -  92.291259765625 %\n"
          ],
          "name": "stdout"
        }
      ]
    },
    {
      "cell_type": "code",
      "metadata": {
        "id": "e7tzxWyyRb_k"
      },
      "source": [
        "model.save('model_15-6_2.h5')"
      ],
      "execution_count": 39,
      "outputs": []
    },
    {
      "cell_type": "code",
      "metadata": {
        "colab": {
          "base_uri": "https://localhost:8080/"
        },
        "id": "GVKD7_sDhO-T",
        "outputId": "f05cadbc-a197-4614-dc54-fc12af60b2a7"
      },
      "source": [
        "import joblib\n",
        "joblib.dump(tokenizer, 'tokenizer.pkl')"
      ],
      "execution_count": 41,
      "outputs": [
        {
          "output_type": "execute_result",
          "data": {
            "text/plain": [
              "['/content/drive/My Drive/Fake News/Project/Saved_model/tokenizer.pkl']"
            ]
          },
          "metadata": {
            "tags": []
          },
          "execution_count": 41
        }
      ]
    }
  ]
}